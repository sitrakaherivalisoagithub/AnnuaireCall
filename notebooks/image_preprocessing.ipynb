{
 "cells": [
  {
   "cell_type": "code",
   "execution_count": 41,
   "id": "b662c57d-b0c5-4772-94e8-7366fd7402c6",
   "metadata": {},
   "source": [
    "import cv2\n",
    "\n",
    "# Load the image\n",
    "image = cv2.imread('three_column.jpg')\n",
    "\n",
    "# Convert the image to grayscale\n",
    "gray_image = cv2.cvtColor(image, cv2.COLOR_BGR2GRAY)\n",
    "# Save the grayscale image\n",
    "#cv2.imwrite('grayscale_image.jpg', gray_image)\n"
   ],
   "outputs": []
  },
  {
   "cell_type": "code",
   "execution_count": 93,
   "id": "1148fc2f-add6-41dd-8cfc-5d69ce3a8a5d",
   "metadata": {},
   "source": [
    "plt.figure(figsize=(20,8))\n",
    "plt.imshow(image)"
   ],
   "outputs": []
  },
  {
   "cell_type": "code",
   "execution_count": 94,
   "id": "ba32c71b-ac47-4576-87d9-0baa6a84e1c4",
   "metadata": {},
   "source": [
    "import numpy as np"
   ],
   "outputs": []
  },
  {
   "cell_type": "code",
   "execution_count": 95,
   "id": "e6534ca4-ff48-4c0b-8ac4-cc6960acc0ca",
   "metadata": {},
   "source": [
    "import matplotlib.pyplot as plt"
   ],
   "outputs": []
  },
  {
   "cell_type": "code",
   "execution_count": 96,
   "id": "fec26e33-5d8d-462c-bf56-c271619025c3",
   "metadata": {},
   "source": [
    "b, g, r = cv2.split(image)\n",
    "plt.figure(figsize=(20,8))\n",
    "plt.imshow(g)"
   ],
   "outputs": []
  },
  {
   "cell_type": "code",
   "execution_count": 97,
   "id": "269eec28-fdbc-4293-bd29-1cf0f1a0cd11",
   "metadata": {},
   "source": [
    "# Invert the grayscale image\n",
    "inverted_gray_image = cv2.bitwise_not(g)"
   ],
   "outputs": []
  },
  {
   "cell_type": "code",
   "execution_count": 98,
   "id": "3c73149b-9fa9-4eed-b9b0-45d73b528616",
   "metadata": {},
   "source": [
    "inverted_gray_image[:, 0: inverted_gray_image.shape[1]//10] = 255\n",
    "inverted_gray_image[:, inverted_gray_image.shape[1]-(inverted_gray_image.shape[1]//10): inverted_gray_image.shape[1]] = 255"
   ],
   "outputs": []
  },
  {
   "cell_type": "code",
   "execution_count": 99,
   "id": "b7a50894-1116-432c-bebb-c0ef111e9737",
   "metadata": {},
   "source": [
    "# inverted_gray_image[inverted_gray_image>0] = 150"
   ],
   "outputs": []
  },
  {
   "cell_type": "code",
   "execution_count": 100,
   "id": "cbc5ea35-362e-44ba-a617-a2b109acbe7a",
   "metadata": {},
   "source": [
    "plt.figure(figsize=(20,8))\n",
    "plt.imshow(inverted_gray_image)"
   ],
   "outputs": []
  },
  {
   "cell_type": "code",
   "execution_count": 101,
   "id": "4a2b7f77-27fc-4cc4-956b-b1aa595ad693",
   "metadata": {},
   "source": [
    "plt.figure(figsize=(20,8))\n",
    "plt.imshow(inverted_gray_image[:, 0: inverted_gray_image.shape[1]//2])"
   ],
   "outputs": []
  },
  {
   "cell_type": "code",
   "execution_count": 102,
   "id": "ad37df9e-4299-4715-8f54-b70b865e3dd0",
   "metadata": {},
   "source": [
    "plt.figure(figsize=(20,8))\n",
    "plt.imshow(inverted_gray_image[:, inverted_gray_image.shape[1]//2: inverted_gray_image.shape[1]])"
   ],
   "outputs": []
  },
  {
   "cell_type": "code",
   "execution_count": 110,
   "id": "19afe5f7-5ced-4a2a-831d-e8ff292d95f4",
   "metadata": {},
   "source": [
    "line_median = inverted_gray_image.shape[1]//2\n",
    "first_gap = np.argmin(inverted_gray_image[:, 0:line_median].sum(axis=0))\n",
    "second_gap = np.argmin(inverted_gray_image[:, line_median: inverted_gray_image.shape[1]].sum(axis=0))"
   ],
   "outputs": []
  },
  {
   "cell_type": "code",
   "execution_count": 111,
   "id": "d012ccde-7ddd-4553-b903-bdc750178f0c",
   "metadata": {},
   "source": [
    "first_gap"
   ],
   "outputs": []
  },
  {
   "cell_type": "code",
   "execution_count": 112,
   "id": "96d43c26-1a44-4516-9b55-ab7e127672b6",
   "metadata": {},
   "source": [
    "secong_gap"
   ],
   "outputs": []
  },
  {
   "cell_type": "code",
   "execution_count": 109,
   "id": "3bb043fa-9817-4c51-9836-91708d2ed182",
   "metadata": {},
   "source": [
    "line_median"
   ],
   "outputs": []
  },
  {
   "cell_type": "code",
   "execution_count": 113,
   "id": "78e2f082-3547-4c89-aa30-10f36479fabf",
   "metadata": {},
   "source": [
    "second_gap = second_gap + line_median\n",
    "image1 = image[:, 0: first_gap]\n",
    "image2 = image[:, first_gap: second_gap]\n",
    "image3 = image[:, second_gap: image.shape[1]]"
   ],
   "outputs": []
  },
  {
   "cell_type": "code",
   "execution_count": 114,
   "id": "bd41d06d-d0b4-4080-94a9-dad833892200",
   "metadata": {},
   "source": [
    "plt.figure(figsize=(20,60))\n",
    "plt.subplot(1, 3, 1)\n",
    "plt.imshow(image1)\n",
    "plt.subplot(1, 3, 2)\n",
    "plt.imshow(image2)\n",
    "plt.subplot(1, 3, 3)\n",
    "plt.imshow(image3)\n",
    "plt.show()"
   ],
   "outputs": []
  },
  {
   "cell_type": "code",
   "execution_count": 71,
   "id": "84f82a42-a91a-4cd4-9e7d-4fe4e52092d9",
   "metadata": {},
   "source": [
    "import cv2\n",
    "from typing import List\n",
    "import numpy as np\n",
    "\n",
    "class ImageSplitter:\n",
    "    \n",
    "    def __init__(self, image):\n",
    "        self.image = image\n",
    "        self.inverted_gray_image = None\n",
    "        \n",
    "    def gray_scale_image(self):\n",
    "        \"\"\"Convert the image to grayscale\"\"\"\n",
    "        gray_image = cv2.cvtColor(self.image, cv2.COLOR_BGR2GRAY)\n",
    "        # Invert the grayscale image\n",
    "        self.inverted_gray_image = cv2.bitwise_not(gray_image)\n",
    "        \n",
    "    def split_image(self):\n",
    "        \n",
    "        self.gray_scale_image()\n",
    "        \n",
    "        marigin = self.inverted_gray_image.shape[1]//10\n",
    "        y_max = self.inverted_gray_image.shape[1]\n",
    "        \n",
    "        self.inverted_gray_image[:, 0:marigin] = 255\n",
    "        self.inverted_gray_image[:, y_max-marigin: y_max] = 255\n",
    "        \n",
    "        line_median = self.inverted_gray_image.shape[1]//2\n",
    "        first_gap = np.argmin(self.inverted_gray_image[:, 0:line_median].sum(axis=0))\n",
    "        second_gap = np.argmin(self.inverted_gray_image[:, line_median: y_max].sum(axis=0))\n",
    "\n",
    "        second_gap = second_gap + line_median\n",
    "        image1 = self.image[:, 0: first_gap]\n",
    "        image2 = self.image[:, first_gap: second_gap]\n",
    "        image3 = self.image[:, second_gap: self.image.shape[1]]\n",
    "        # save image\n",
    "        #cv2.imwrite('image'+ str(i)+ '.jpg', gray_image)\n",
    "        cv2.imwrite('image1', image1)\n",
    "        cv2.imwrite('image2', image2)\n",
    "        cv2.imwrite('image1', image3)\n",
    "        \n",
    "        return (image1, image2, image3)"
   ],
   "outputs": []
  },
  {
   "cell_type": "code",
   "execution_count": 75,
   "id": "7689b035-47fe-42ad-ac33-5c5c69180562",
   "metadata": {},
   "source": [
    "plt.hist(inverted_gray_image.ravel())"
   ],
   "outputs": []
  },
  {
   "cell_type": "code",
   "execution_count": 48,
   "id": "3bb1403f-3cd6-4cad-8551-b270d6755597",
   "metadata": {},
   "source": [
    "# index_gap = np.argmin(inverted_gray_image.sum(axis=0))"
   ],
   "outputs": []
  },
  {
   "cell_type": "code",
   "execution_count": 57,
   "id": "150f2adc-f8f2-476c-b666-b136b731d9d8",
   "metadata": {},
   "source": [
    "index_gap = np.argsort(inverted_gray_image.sum(axis=0))[:10]"
   ],
   "outputs": []
  },
  {
   "cell_type": "code",
   "execution_count": 58,
   "id": "22df9c91-73a4-4860-91cb-ed6170ccec98",
   "metadata": {},
   "source": [
    "index_gap"
   ],
   "outputs": []
  },
  {
   "cell_type": "code",
   "execution_count": 24,
   "id": "64c7b83e-6376-48e8-acb2-232ca184454f",
   "metadata": {},
   "source": [
    "for index in range(0, inverted_gray_image.shape[1], index_gap):\n",
    "    print(index)"
   ],
   "outputs": []
  },
  {
   "cell_type": "code",
   "execution_count": 51,
   "id": "92c1b444-2bd5-4224-9dd9-3b5774e0fc91",
   "metadata": {},
   "source": [
    "crop_image = image[0:image.shape[0], 0:index_gap]"
   ],
   "outputs": []
  },
  {
   "cell_type": "code",
   "execution_count": 52,
   "id": "2445f6b5-6703-4ecd-bf66-eae57a8711cb",
   "metadata": {},
   "source": [
    "plt.imshow(crop_image)"
   ],
   "outputs": []
  },
  {
   "cell_type": "code",
   "execution_count": null,
   "id": "b4effad9-1290-4536-8756-e0d946de29eb",
   "metadata": {},
   "source": [],
   "outputs": []
  }
 ],
 "metadata": {
  "kernelspec": {
   "display_name": "Python 3 (ipykernel)",
   "language": "python",
   "name": "python3"
  },
  "language_info": {
   "codemirror_mode": {
    "name": "ipython",
    "version": 3
   },
   "file_extension": ".py",
   "mimetype": "text/x-python",
   "name": "python",
   "nbconvert_exporter": "python",
   "pygments_lexer": "ipython3",
   "version": "3.10.0"
  }
 },
 "nbformat": 4,
 "nbformat_minor": 5
}
