{
 "cells": [
  {
   "cell_type": "code",
   "execution_count": 41,
   "id": "b662c57d-b0c5-4772-94e8-7366fd7402c6",
   "metadata": {},
   "source": [
    "import cv2\n",
    "\n",
    "# Load the image\n",
    "image = cv2.imread('three_column.jpg')\n",
    "\n",
    "# Convert the image to grayscale\n",
    "gray_image = cv2.cvtColor(image, cv2.COLOR_BGR2GRAY)\n",
    "# Save the grayscale image\n",
    "#cv2.imwrite('grayscale_image.jpg', gray_image)\n"
   ],
   "outputs": []
  },
  {
   "cell_type": "code",
   "execution_count": 42,
   "id": "1148fc2f-add6-41dd-8cfc-5d69ce3a8a5d",
   "metadata": {},
   "source": [
    "plt.figure(figsize=(20,8))\n",
    "plt.imshow(image)"
   ],
   "outputs": []
  },
  {
   "cell_type": "code",
   "execution_count": 2,
   "id": "ba32c71b-ac47-4576-87d9-0baa6a84e1c4",
   "metadata": {},
   "source": [
    "import numpy as np"
   ],
   "outputs": []
  },
  {
   "cell_type": "code",
   "execution_count": 3,
   "id": "e6534ca4-ff48-4c0b-8ac4-cc6960acc0ca",
   "metadata": {},
   "source": [
    "import matplotlib.pyplot as plt"
   ],
   "outputs": []
  },
  {
   "cell_type": "code",
   "execution_count": 43,
   "id": "fec26e33-5d8d-462c-bf56-c271619025c3",
   "metadata": {},
   "source": [
    "b, g, r = cv2.split(image)\n",
    "plt.figure(figsize=(20,8))\n",
    "plt.imshow(g)"
   ],
   "outputs": []
  },
  {
   "cell_type": "code",
   "execution_count": 76,
   "id": "269eec28-fdbc-4293-bd29-1cf0f1a0cd11",
   "metadata": {},
   "source": [
    "# Invert the grayscale image\n",
    "inverted_gray_image = cv2.bitwise_not(g)"
   ],
   "outputs": []
  },
  {
   "cell_type": "code",
   "execution_count": 77,
   "id": "3c73149b-9fa9-4eed-b9b0-45d73b528616",
   "metadata": {},
   "source": [
    "inverted_gray_image[:, 0: inverted_gray_image.shape[1]//10] = 255\n",
    "inverted_gray_image[:, inverted_gray_image.shape[1]-(inverted_gray_image.shape[1]//10): inverted_gray_image.shape[1]] = 255"
   ],
   "outputs": []
  },
  {
   "cell_type": "code",
   "execution_count": 78,
   "id": "b7a50894-1116-432c-bebb-c0ef111e9737",
   "metadata": {},
   "source": [
    "# inverted_gray_image[inverted_gray_image>0] = 150"
   ],
   "outputs": []
  },
  {
   "cell_type": "code",
   "execution_count": 79,
   "id": "cbc5ea35-362e-44ba-a617-a2b109acbe7a",
   "metadata": {},
   "source": [
    "plt.figure(figsize=(20,8))\n",
    "plt.imshow(inverted_gray_image)"
   ],
   "outputs": []
  },
  {
   "cell_type": "code",
   "execution_count": 81,
   "id": "4a2b7f77-27fc-4cc4-956b-b1aa595ad693",
   "metadata": {},
   "source": [
    "plt.figure(figsize=(20,8))\n",
    "plt.imshow(inverted_gray_image[:, 0: inverted_gray_image.shape[1]//2])"
   ],
   "outputs": []
  },
  {
   "cell_type": "code",
   "execution_count": null,
   "id": "19afe5f7-5ced-4a2a-831d-e8ff292d95f4",
   "metadata": {},
   "source": [
    "first_gap = np.min(inverted_gray_image[:, 0: inverted_gray_image.shape[1]//2])"
   ],
   "outputs": []
  },
  {
   "cell_type": "code",
   "execution_count": 71,
   "id": "84f82a42-a91a-4cd4-9e7d-4fe4e52092d9",
   "metadata": {},
   "source": [
    "inverted_gray_image.shape"
   ],
   "outputs": []
  },
  {
   "cell_type": "code",
   "execution_count": 75,
   "id": "7689b035-47fe-42ad-ac33-5c5c69180562",
   "metadata": {},
   "source": [
    "plt.hist(inverted_gray_image.ravel())"
   ],
   "outputs": []
  },
  {
   "cell_type": "code",
   "execution_count": 48,
   "id": "3bb1403f-3cd6-4cad-8551-b270d6755597",
   "metadata": {},
   "source": [
    "# index_gap = np.argmin(inverted_gray_image.sum(axis=0))"
   ],
   "outputs": []
  },
  {
   "cell_type": "code",
   "execution_count": 57,
   "id": "150f2adc-f8f2-476c-b666-b136b731d9d8",
   "metadata": {},
   "source": [
    "index_gap = np.argsort(inverted_gray_image.sum(axis=0))[:10]"
   ],
   "outputs": []
  },
  {
   "cell_type": "code",
   "execution_count": 58,
   "id": "22df9c91-73a4-4860-91cb-ed6170ccec98",
   "metadata": {},
   "source": [
    "index_gap"
   ],
   "outputs": []
  },
  {
   "cell_type": "code",
   "execution_count": 50,
   "id": "c99b5943-6201-4724-9dd3-9e2451b45d71",
   "metadata": {},
   "source": [
    "sorted(inverted_gray_image.sum(axis=0))"
   ],
   "outputs": []
  },
  {
   "cell_type": "code",
   "execution_count": 24,
   "id": "64c7b83e-6376-48e8-acb2-232ca184454f",
   "metadata": {},
   "source": [
    "for index in range(0, inverted_gray_image.shape[1], index_gap):\n",
    "    print(index)"
   ],
   "outputs": []
  },
  {
   "cell_type": "code",
   "execution_count": 51,
   "id": "92c1b444-2bd5-4224-9dd9-3b5774e0fc91",
   "metadata": {},
   "source": [
    "crop_image = image[0:image.shape[0], 0:index_gap]"
   ],
   "outputs": []
  },
  {
   "cell_type": "code",
   "execution_count": 52,
   "id": "2445f6b5-6703-4ecd-bf66-eae57a8711cb",
   "metadata": {},
   "source": [
    "plt.imshow(crop_image)"
   ],
   "outputs": []
  },
  {
   "cell_type": "code",
   "execution_count": null,
   "id": "b4effad9-1290-4536-8756-e0d946de29eb",
   "metadata": {},
   "source": [],
   "outputs": []
  }
 ],
 "metadata": {
  "kernelspec": {
   "display_name": "Python 3 (ipykernel)",
   "language": "python",
   "name": "python3"
  },
  "language_info": {
   "codemirror_mode": {
    "name": "ipython",
    "version": 3
   },
   "file_extension": ".py",
   "mimetype": "text/x-python",
   "name": "python",
   "nbconvert_exporter": "python",
   "pygments_lexer": "ipython3",
   "version": "3.10.0"
  }
 },
 "nbformat": 4,
 "nbformat_minor": 5
}
